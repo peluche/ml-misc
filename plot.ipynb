{
 "cells": [
  {
   "cell_type": "markdown",
   "metadata": {},
   "source": [
    "# helper for ploting images"
   ]
  },
  {
   "cell_type": "code",
   "execution_count": 7,
   "metadata": {},
   "outputs": [],
   "source": [
    "import torch\n",
    "import math\n",
    "import numpy as np\n",
    "import matplotlib.pyplot as plt\n",
    "%matplotlib inline"
   ]
  },
  {
   "cell_type": "code",
   "execution_count": 3,
   "metadata": {},
   "outputs": [],
   "source": [
    "# plot the image and optinal labels in a grid\n",
    "def plot(*args, n_col=None, figsize=None, axis_off=True):\n",
    "    '''Plot the images in a grid with optional labels\n",
    "    usage: plot(img1, img2, ...)\n",
    "    usage: plot(img1, label1, img2, label2, ...)\n",
    "    optional: n_col=3, figsize=(12, 8), axis_off=True\n",
    "\n",
    "    img: torch.Tensor of shape (C, H, W) or (H, W, C)\n",
    "    label: str\n",
    "    '''\n",
    "    # prepare the elements to plot as (image, label)\n",
    "    elems = []\n",
    "    for el in args:\n",
    "        if isinstance(el, torch.Tensor):\n",
    "            if el.dim() == 4: el = el[0] # if picture is a batch, take the first one\n",
    "            assert el.dim() == 3, f\"Wrong image shape {el.shape}\"\n",
    "            if el.shape[0] == 3: el = el.permute(1, 2, 0) # if image is (C, H, W), convert to (H, W, C)\n",
    "            if el.requires_grad: el = el.detach()\n",
    "            elems.append([el])\n",
    "        elif isinstance(el, str): elems[-1].append(el)\n",
    "        else: raise ValueError(f\"Wrong element ({type(el)}) {repr(el)}\")\n",
    "    elems = [(el[0], el[1] if len(el) == 2 else None) for el in elems]\n",
    "\n",
    "    # plot the images\n",
    "    n_col = n_col or len(elems)\n",
    "    n_row = math.ceil(len(elems) / n_col)\n",
    "    figsize = figsize or (n_col * 4, n_row * 4)\n",
    "    fig, ax = plt.subplots(n_row, n_col, figsize=figsize)\n",
    "    if n_row == 1 and n_col == 1: ax = np.array([ax])\n",
    "    for i, (img, label) in enumerate(elems):\n",
    "        idx = (i,) if n_row == 1 or n_col == 1 else (i // n_col, i % n_col)\n",
    "        if label: ax[*idx].set_title(label)\n",
    "        ax[*idx].imshow(img)\n",
    "    # remove the axis\n",
    "    for i in range(n_row * n_col):\n",
    "        idx = (i,) if n_row == 1 or n_col == 1 else (i // n_col, i % n_col)\n",
    "        if axis_off: ax[*idx].axis('off')\n",
    "    plt.tight_layout()\n",
    "    plt.show()"
   ]
  },
  {
   "cell_type": "code",
   "execution_count": 34,
   "metadata": {},
   "outputs": [
    {
     "data": {
      "image/png": "[encoded data removed]",
      "text/plain": [
       "<Figure size 100x100 with 1 Axes>"
      ]
     },
     "metadata": {},
     "output_type": "display_data"
    },
    {
     "name": "stderr",
     "output_type": "stream",
     "text": [
      "Clipping input data to the valid range for imshow with RGB data ([0..1] for floats or [0..255] for integers).\n"
     ]
    },
    {
     "data": {
      "image/png": "[encoded data removed]",
      "text/plain": [
       "<Figure size 100x200 with 2 Axes>"
      ]
     },
     "metadata": {},
     "output_type": "display_data"
    },
    {
     "name": "stderr",
     "output_type": "stream",
     "text": [
      "Clipping input data to the valid range for imshow with RGB data ([0..1] for floats or [0..255] for integers).\n"
     ]
    },
    {
     "data": {
      "image/png": "[encoded data removed]",
      "text/plain": [
       "<Figure size 200x100 with 2 Axes>"
      ]
     },
     "metadata": {},
     "output_type": "display_data"
    },
    {
     "name": "stderr",
     "output_type": "stream",
     "text": [
      "Clipping input data to the valid range for imshow with RGB data ([0..1] for floats or [0..255] for integers).\n"
     ]
    },
    {
     "data": {
      "image/png": "[encoded data removed]",
      "text/plain": [
       "<Figure size 200x300 with 4 Axes>"
      ]
     },
     "metadata": {},
     "output_type": "display_data"
    }
   ],
   "source": [
    "# usage demo\n",
    "im = torch.rand([3, 20, 20])\n",
    "im2 = torch.randn([20, 20, 3])\n",
    "plot(im, figsize=(1, 1))\n",
    "plot(im, im2, n_col=1, figsize=(1, 2))\n",
    "plot(im, im2, figsize=(2, 1))\n",
    "plot(im, 'im 1', im2, 'im2', im, 'im3', n_col=2, figsize=(2, 3))"
   ]
  }
 ],
 "metadata": {
  "kernelspec": {
   "display_name": "venv_hf_nlp",
   "language": "python",
   "name": "venv_hf_nlp"
  },
  "language_info": {
   "codemirror_mode": {
    "name": "ipython",
    "version": 3
   },
   "file_extension": ".py",
   "mimetype": "text/x-python",
   "name": "python",
   "nbconvert_exporter": "python",
   "pygments_lexer": "ipython3",
   "version": "3.11.2"
  },
  "orig_nbformat": 4
 },
 "nbformat": 4,
 "nbformat_minor": 2
}
